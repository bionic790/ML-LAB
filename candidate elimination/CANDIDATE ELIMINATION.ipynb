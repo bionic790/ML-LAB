{
 "cells": [
  {
   "cell_type": "code",
   "execution_count": 44,
   "metadata": {},
   "outputs": [
    {
     "name": "stdout",
     "output_type": "stream",
     "text": [
      "Concepts: [['sunny' 'warm' 'normal' 'strong' 'warm' 'same']\n",
      " ['sunny' 'warm' 'high' 'strong' 'warm' 'same']\n",
      " ['rainy' 'cold' 'high' 'strong' 'warm' 'change']\n",
      " ['sunny' 'warm' 'high' 'strong' 'cool' 'change']]\n",
      "Target: ['yes' 'yes' 'no' 'yes']\n",
      "Initialization of specific_h and general_h\n",
      "\t specific_h: ['sunny' 'warm' 'normal' 'strong' 'warm' 'same']\n",
      "\t general_h: [['?', '?', '?', '?', '?', '?'], ['?', '?', '?', '?', '?', '?'], ['?', '?', '?', '?', '?', '?'], ['?', '?', '?', '?', '?', '?'], ['?', '?', '?', '?', '?', '?'], ['?', '?', '?', '?', '?', '?']]\n",
      "\n",
      " Steps of Candidate Elimination Algorithm 1\n",
      "\t specific_h ['sunny' 'warm' 'normal' 'strong' 'warm' 'same']\n",
      "\t general_h: [['?', '?', '?', '?', '?', '?'], ['?', '?', '?', '?', '?', '?'], ['?', '?', '?', '?', '?', '?'], ['?', '?', '?', '?', '?', '?'], ['?', '?', '?', '?', '?', '?'], ['?', '?', '?', '?', '?', '?']]\n",
      "\n",
      " Steps of Candidate Elimination Algorithm 2\n",
      "\t specific_h ['sunny' 'warm' '?' 'strong' 'warm' 'same']\n",
      "\t general_h: [['?', '?', '?', '?', '?', '?'], ['?', '?', '?', '?', '?', '?'], ['?', '?', '?', '?', '?', '?'], ['?', '?', '?', '?', '?', '?'], ['?', '?', '?', '?', '?', '?'], ['?', '?', '?', '?', '?', '?']]\n",
      "\n",
      " Steps of Candidate Elimination Algorithm 3\n",
      "\t specific_h ['sunny' 'warm' '?' 'strong' 'warm' 'same']\n",
      "\t general_h: [['sunny', '?', '?', '?', '?', '?'], ['?', 'warm', '?', '?', '?', '?'], ['?', '?', '?', '?', '?', '?'], ['?', '?', '?', '?', '?', '?'], ['?', '?', '?', '?', '?', '?'], ['?', '?', '?', '?', '?', 'same']]\n",
      "\n",
      " Steps of Candidate Elimination Algorithm 4\n",
      "\t specific_h ['sunny' 'warm' '?' 'strong' '?' '?']\n",
      "\t general_h: [['sunny', '?', '?', '?', '?', '?'], ['?', 'warm', '?', '?', '?', '?'], ['?', '?', '?', '?', '?', '?'], ['?', '?', '?', '?', '?', '?'], ['?', '?', '?', '?', '?', '?'], ['?', '?', '?', '?', '?', '?']]\n",
      "\n",
      " Final specific_h:\n",
      "['sunny' 'warm' '?' 'strong' '?' '?']\n",
      "\n",
      " Final general_h:\n",
      "[['sunny', '?', '?', '?', '?', '?'], ['?', 'warm', '?', '?', '?', '?']]\n"
     ]
    }
   ],
   "source": [
    "import numpy as np  \n",
    "import pandas as pd\n",
    "\n",
    "data = pd.DataFrame(data=pd.read_csv('enjoysport.csv'))  \n",
    "concepts = np.array(data.iloc[:,0:-1]) \n",
    "print('Concepts:', concepts)  \n",
    "target = np.array(data.iloc[:,-1])   \n",
    "print('Target:', target) \n",
    " \n",
    "def learn(concepts, target):  \n",
    "    print(\"Initialization of specific_h and general_h\")      \n",
    "    \n",
    "    specific_h = concepts[0].copy()      \n",
    "    print('\\t specific_h:', specific_h)\n",
    "\n",
    "    general_h = [[\"?\" for i in range(len(specific_h))] for i in range(len(specific_h))]      \n",
    "    print('\\t general_h:', general_h)\n",
    "\n",
    "    for i, h in enumerate(concepts):  \n",
    "        if target[i] == \"yes\":  \n",
    "            for x in range(len(specific_h)):  \n",
    "                if h[x]!= specific_h[x]:                     \n",
    "                    specific_h[x] ='?'                      \n",
    "                    general_h[x][x] ='?'  \n",
    "        if target[i] == \"no\":             \n",
    "            for x in range(len(specific_h)):  \n",
    "                if h[x]!= specific_h[x]:                     \n",
    "                    general_h[x][x] = specific_h[x]                 \n",
    "                else:                     \n",
    "                    general_h[x][x] = '?'         \n",
    "        \n",
    "        print(\"\\n Steps of Candidate Elimination Algorithm\",i+1)\n",
    "        print('\\t specific_h', specific_h)       \n",
    "        print('\\t general_h:', general_h)\n",
    "\n",
    "    indices = [i for i, val in enumerate(general_h) if val == ['?', '?', '?', '?', '?', '?']]     \n",
    "    for i in indices:    \n",
    "        general_h.remove(['?', '?', '?', '?', '?', '?'])  \n",
    "    return specific_h, general_h\n",
    "\n",
    "s_final, g_final = learn(concepts, target)\n",
    "\n",
    "print(\"\\n Final specific_h:\", s_final, sep=\"\\n\") \n",
    "print(\"\\n Final general_h:\", g_final, sep=\"\\n\") "
   ]
  },
  {
   "cell_type": "code",
   "execution_count": null,
   "metadata": {},
   "outputs": [],
   "source": []
  }
 ],
 "metadata": {
  "kernelspec": {
   "display_name": "Python 3",
   "language": "python",
   "name": "python3"
  },
  "language_info": {
   "codemirror_mode": {
    "name": "ipython",
    "version": 3
   },
   "file_extension": ".py",
   "mimetype": "text/x-python",
   "name": "python",
   "nbconvert_exporter": "python",
   "pygments_lexer": "ipython3",
   "version": "3.8.3"
  }
 },
 "nbformat": 4,
 "nbformat_minor": 4
}
